{
 "cells": [
  {
   "cell_type": "markdown",
   "id": "1ebdd3fa",
   "metadata": {},
   "source": [
    "# Data"
   ]
  },
  {
   "cell_type": "markdown",
   "id": "acbe1bf2",
   "metadata": {},
   "source": [
    "1. decagon_data - download project files from [SNAP](http://snap.stanford.edu/decagon/).\n",
    "\n",
    "2. UNII_Data - download UNII substance data from [GSRS](https://precision.fda.gov/uniisearch).\n",
    "\n",
    "3. ADR_severity_data - download SAEDR_scores as described in this [paper by Lavertu et. al.](https://www.ncbi.nlm.nih.gov/pmc/articles/PMC8569532/)."
   ]
  },
  {
   "cell_type": "markdown",
   "id": "a95bca58",
   "metadata": {},
   "source": [
    "# Data Processing"
   ]
  },
  {
   "cell_type": "markdown",
   "id": "61f67eed",
   "metadata": {},
   "source": [
    "1. Get drugs indicated for CVD diseases using NCATS_indications.py. Update the 'facet' and 'name' variables in the script with the disease you want to search in NCATS API. Outputs to ```../data/NCATS_exports/```.\n",
    "\n",
    "    ```python3 NCATS_indications.py```"
   ]
  },
  {
   "cell_type": "markdown",
   "id": "049c24d9",
   "metadata": {},
   "source": [
    "2. Create your CVD dataset by matching UNII records and manually looking up the rest of the drugs.\n",
    "\n",
    "    ```python3 cvd_dataset_creation.py```"
   ]
  },
  {
   "cell_type": "markdown",
   "id": "4ae8a7ae",
   "metadata": {},
   "source": [
    "3. Get your graph-based smiles drug embeddings.\n",
    "\n",
    "    ```python pretrain_smiles_embedding.py -fi ../data/SMILES/drugname_smiles.txt -m gin_supervised_masking -fo csv -sc SMILE -o ../data/model_data/embeddings/```"
   ]
  },
  {
   "cell_type": "markdown",
   "id": "607adf53",
   "metadata": {},
   "source": [
    "4. EDA example in notebook ```EDA.ipynb```"
   ]
  },
  {
   "cell_type": "markdown",
   "id": "f060a913",
   "metadata": {},
   "source": [
    "# Training"
   ]
  },
  {
   "cell_type": "markdown",
   "id": "94c604c9",
   "metadata": {},
   "source": [
    "1. Feature selection between PCA (0.85, 0.9, 0.95, 0.99) and UMAP.\n",
    "\n",
    "    ```python3 feature_selection.py```"
   ]
  },
  {
   "cell_type": "markdown",
   "id": "c8cbea7b",
   "metadata": {},
   "source": [
    "2. Hyperparameter tuning with Hyperband looking at layers, dropout, batchnorm.\n",
    "\n",
    "    ```python3 hyper.py```"
   ]
  },
  {
   "cell_type": "markdown",
   "id": "7f3068bd",
   "metadata": {},
   "source": [
    "3. CVD model training. You can update feature selection method in script if you want to. Default is PCA(0.95). Outputs to ```../data/cvd_output/```.\n",
    "\n",
    "    ```python3 cvd_training.py```"
   ]
  },
  {
   "cell_type": "markdown",
   "id": "90f11d65",
   "metadata": {},
   "source": [
    "# Severity Analysis"
   ]
  },
  {
   "cell_type": "markdown",
   "id": "89bc2d1f",
   "metadata": {},
   "source": [
    "1. Analysis example in ```Severity_Analysis.ipynb```."
   ]
  }
 ],
 "metadata": {
  "kernelspec": {
   "display_name": "Python 3 (ipykernel)",
   "language": "python",
   "name": "python3"
  },
  "language_info": {
   "codemirror_mode": {
    "name": "ipython",
    "version": 3
   },
   "file_extension": ".py",
   "mimetype": "text/x-python",
   "name": "python",
   "nbconvert_exporter": "python",
   "pygments_lexer": "ipython3",
   "version": "3.11.4"
  }
 },
 "nbformat": 4,
 "nbformat_minor": 5
}
