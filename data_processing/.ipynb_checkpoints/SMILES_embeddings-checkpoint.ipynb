{
 "cells": [
  {
   "cell_type": "code",
   "execution_count": 1,
   "id": "9866cd57",
   "metadata": {},
   "outputs": [],
   "source": [
    "import pandas as pd\n",
    "import numpy as np\n",
    "from collections import Counter\n",
    "from sklearn.model_selection import train_test_split"
   ]
  },
  {
   "cell_type": "markdown",
   "id": "ff4f787d",
   "metadata": {},
   "source": [
    "# SMILES Data\n",
    "\n",
    "This is where we get our molecular interactions."
   ]
  },
  {
   "cell_type": "code",
   "execution_count": 2,
   "id": "6f304705",
   "metadata": {},
   "outputs": [],
   "source": [
    "smile = pd.read_csv(\"../data/SMILES/id_SMILE.txt\", sep='\\t', header=None)\n",
    "smile.columns = [\"ID\", \"SMILE\"]\n",
    "smile['ID'] = smile['ID'].apply(lambda x: f'Drug::{x}')\n",
    "\n",
    "smile.to_csv(\"../data/SMILES/drugname_smiles.txt\", index=None, sep=\"\\t\")"
   ]
  },
  {
   "cell_type": "markdown",
   "id": "fbfeea1d",
   "metadata": {},
   "source": [
    "## Command to get graph-based drug embeddings from SMILES"
   ]
  },
  {
   "cell_type": "markdown",
   "id": "b646b799",
   "metadata": {},
   "source": [
    "python pretrain_smiles_embedding.py -fi ../data/SMILES/drugname_smiles.txt -m gin_supervised_masking -fo csv -sc SMILE -o ../data/model_data/embeddings/"
   ]
  }
 ],
 "metadata": {
  "kernelspec": {
   "display_name": "Python 3 (ipykernel)",
   "language": "python",
   "name": "python3"
  },
  "language_info": {
   "codemirror_mode": {
    "name": "ipython",
    "version": 3
   },
   "file_extension": ".py",
   "mimetype": "text/x-python",
   "name": "python",
   "nbconvert_exporter": "python",
   "pygments_lexer": "ipython3",
   "version": "3.11.4"
  }
 },
 "nbformat": 4,
 "nbformat_minor": 5
}
