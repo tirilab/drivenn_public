{
 "cells": [
  {
   "cell_type": "code",
   "execution_count": 3,
   "id": "b4bf9de6",
   "metadata": {},
   "outputs": [],
   "source": [
    "from utility import *\n",
    "\n",
    "from collections import Counter\n",
    "\n",
    "import matplotlib.pyplot as plt\n",
    "import seaborn as sns\n",
    "import numpy as np\n",
    "import random\n",
    "import pandas as pd\n",
    "import collections\n",
    "import json as json"
   ]
  },
  {
   "cell_type": "code",
   "execution_count": 25,
   "id": "d1b19ca2",
   "metadata": {},
   "outputs": [],
   "source": [
    "# df display side by side - helper function for data visualization\n",
    "\n",
    "from IPython.display import display_html\n",
    "from itertools import chain,cycle\n",
    "def display_side_by_side(*args,titles=cycle([''])):\n",
    "    html_str=''\n",
    "    for df,title in zip(args, chain(titles,cycle(['</br>'])) ):\n",
    "        html_str+='<th style=\"text-align:center\"><td style=\"vertical-align:top\">'\n",
    "        html_str+=f'<h2 style=\"text-align: center;\">{title}</h2>'\n",
    "        html_str+=df.to_html().replace('table','table style=\"display:inline\"')\n",
    "        html_str+='</td></th>'\n",
    "    display_html(html_str,raw=True)"
   ]
  },
  {
   "cell_type": "markdown",
   "id": "f6702c77",
   "metadata": {},
   "source": [
    "# Zitnik Dataset Loading\n",
    "\n",
    "The data sets needed for the loaders can be found at snap.stanford.edu/decagon. The side effect information was curated from the TWOSIDES, OFFSIDES, and Sider databases."
   ]
  },
  {
   "cell_type": "code",
   "execution_count": 9,
   "id": "3732929f",
   "metadata": {
    "scrolled": true
   },
   "outputs": [
    {
     "name": "stdout",
     "output_type": "stream",
     "text": [
      "Reading: ../data/decagon_data/bio-decagon-combo.csv\n",
      "Drug combinations: 63473 Side effects: 1317\n",
      "Drug-drug interactions: 4649441\n",
      "Reading: ../data/decagon_data/bio-decagon-ppi.csv\n",
      "Edges: 715612\n",
      "Nodes: 19081\n",
      "Reading: ../data/decagon_data/bio-decagon-mono.csv\n",
      "Reading: ../data/decagon_data/bio-decagon-targets.csv\n",
      "Reading: ../data/decagon_data/bio-decagon-effectcategories.csv\n"
     ]
    }
   ],
   "source": [
    "combo2stitch, combo2se, se2name = load_combo_se(fname='../data/decagon_data/bio-decagon-combo.csv')\n",
    "net, node2idx = load_ppi(fname='../data/decagon_data/bio-decagon-ppi.csv')\n",
    "stitch2se, se2name_mono = load_mono_se(fname='../data/decagon_data/bio-decagon-mono.csv')\n",
    "stitch2proteins = load_targets(fname='../data/decagon_data/bio-decagon-targets.csv')\n",
    "se2class, se2name_class = load_categories(fname='../data/decagon_data/bio-decagon-effectcategories.csv')\n",
    "se2name.update(se2name_mono)\n",
    "se2name.update(se2name_class)"
   ]
  },
  {
   "cell_type": "code",
   "execution_count": 10,
   "id": "1ecbd82f",
   "metadata": {},
   "outputs": [
    {
     "name": "stdout",
     "output_type": "stream",
     "text": [
      "drug proteins: 284\n",
      "indiv drugs: 639\n",
      "combo drugs: 645\n",
      "total unique drugs: 645\n"
     ]
    }
   ],
   "source": [
    "# summary of original dataset\n",
    "\n",
    "# drugs with protein info\n",
    "drugs_w_protein = list(stitch2proteins.keys())\n",
    "print(\"drug proteins: \" + str(len(drugs_w_protein)))\n",
    "\n",
    "# drugs with individual SE info \n",
    "drugs_w_indiv_se = list(stitch2se.keys())\n",
    "print(\"indiv drugs: \" + str(len(drugs_w_indiv_se)))\n",
    "\n",
    "# drugs with combo SE info\n",
    "combo_drugs = np.unique(np.array([i for pair in list(combo2stitch.values()) for i in pair]))\n",
    "print(\"combo drugs: \" + str(len(combo_drugs)))\n",
    "\n",
    "# total drugs\n",
    "total_drugs = []\n",
    "[total_drugs.extend(li) for li in (drugs_w_protein, drugs_w_indiv_se, combo_drugs)]\n",
    "total_drugs = np.array(total_drugs)\n",
    "total_drugs = np.unique(np.array(total_drugs))\n",
    "print(\"total unique drugs: \" + str(len(total_drugs)))"
   ]
  },
  {
   "cell_type": "markdown",
   "id": "9ea8c76f",
   "metadata": {},
   "source": [
    "# CVD Dataset Creation"
   ]
  },
  {
   "cell_type": "code",
   "execution_count": 12,
   "id": "8d92416c",
   "metadata": {},
   "outputs": [],
   "source": [
    "# read in cvd drugs from NCATS\n",
    "\n",
    "mi_df = pd.read_csv('../data/NCATS_exports/export_all_uid_MI.tsv', sep='\\t')\n",
    "cad_df = pd.read_csv('../data/NCATS_exports/export_all_uid_CAD.tsv', sep='\\t')\n",
    "chf_df = pd.read_csv('../data/NCATS_exports/export_all_uid_CHF.tsv', sep='\\t')"
   ]
  },
  {
   "cell_type": "code",
   "execution_count": 14,
   "id": "ad757a91",
   "metadata": {},
   "outputs": [],
   "source": [
    "# read in UNII records from GSRS https://precision.fda.gov/uniisearch/archive\n",
    "\n",
    "unii_records = pd.read_csv(\"../data/UNII_Data/UNII_Records_13Apr2023.txt\", sep='\\t', low_memory=False)\n",
    "legacy_unii_records = pd.read_csv(\"../data/UNII_Data/Legacy UNIIs.txt\", sep='\\t', low_memory=False)"
   ]
  },
  {
   "cell_type": "markdown",
   "id": "1f17381b",
   "metadata": {},
   "source": [
    "### Merge UNII records with total drugs and cvd drug lists"
   ]
  },
  {
   "cell_type": "code",
   "execution_count": 15,
   "id": "e46bed47",
   "metadata": {},
   "outputs": [],
   "source": [
    "total_df = pd.DataFrame({\"total_drugs\": total_drugs,\n",
    "             \"drug_num\": [int(d[3::].lstrip(\"0\")) for d in total_drugs]})\n",
    "\n",
    "total_merged = pd.merge(total_df, unii_records, how='left', right_on = 'PUBCHEM', left_on='drug_num')\n",
    "total_merged = total_merged[[\"total_drugs\", \"drug_num\", \"UNII\"]]"
   ]
  },
  {
   "cell_type": "markdown",
   "id": "4a6b488b",
   "metadata": {},
   "source": [
    "### Get drugs with no matched UNIIs to look up manually"
   ]
  },
  {
   "cell_type": "code",
   "execution_count": 19,
   "id": "736da598",
   "metadata": {},
   "outputs": [],
   "source": [
    "null_drugs = total_merged[total_merged['UNII'].isnull()]\n",
    "null_drugs.to_csv(\"../data/UNII_Data/null_drugs.csv\")"
   ]
  },
  {
   "cell_type": "markdown",
   "id": "f48c1e6a",
   "metadata": {},
   "source": [
    "### Read in drugs that were looked up manually"
   ]
  },
  {
   "cell_type": "code",
   "execution_count": 20,
   "id": "af6f94fb",
   "metadata": {},
   "outputs": [],
   "source": [
    "manual = pd.read_csv(\"../data/UNII_Data/manual_null_drugs.csv\")"
   ]
  },
  {
   "cell_type": "code",
   "execution_count": 22,
   "id": "3be1a5e7",
   "metadata": {},
   "outputs": [
    {
     "name": "stdout",
     "output_type": "stream",
     "text": [
      "Non-live: 33\n",
      "Null: 66\n",
      "Valid UNII: 193\n"
     ]
    }
   ],
   "source": [
    "# summary of manual drugs\n",
    "\n",
    "nonlive = len(manual[manual[\"UNII\"] == \"Non-live\"])\n",
    "null = len(manual[manual[\"UNII\"].isnull()])\n",
    "other = len(manual) - nonlive - null\n",
    "\n",
    "print(\"Non-live: \" + str(nonlive))\n",
    "print(\"Null: \" + str(null))\n",
    "print(\"Valid UNII: \" + str(other))"
   ]
  },
  {
   "cell_type": "markdown",
   "id": "53cccd86",
   "metadata": {},
   "source": [
    "### Get number of cvd drugs found in total drugs"
   ]
  },
  {
   "cell_type": "code",
   "execution_count": 23,
   "id": "eabb7c37",
   "metadata": {},
   "outputs": [],
   "source": [
    "total_merged = pd.merge(total_merged, manual[[\"total_drugs\", \"UNII\"]], \n",
    "         on = \"total_drugs\", how = \"left\")\n",
    "\n",
    "total_merged[\"UNII\"] = [i if i is not np.nan else j for i, j in zip(total_merged.UNII_x, total_merged.UNII_y)]\n",
    "total_merged = total_merged[[\"total_drugs\", \"drug_num\", \"UNII\"]]\n",
    "\n",
    "mi_merged = pd.merge(total_merged, mi_df, on = 'UNII', how='inner')\n",
    "cad_merged = pd.merge(total_merged, cad_df, on = 'UNII', how='inner')\n",
    "chf_merged = pd.merge(total_merged, chf_df, on = 'UNII', how='inner')"
   ]
  },
  {
   "cell_type": "code",
   "execution_count": 26,
   "id": "93cd78bc",
   "metadata": {},
   "outputs": [
    {
     "data": {
      "text/html": [
       "<th style=\"text-align:center\"><td style=\"vertical-align:top\"><h2 style=\"text-align: center;\">MI Drugs</h2><table style=\"display:inline\" border=\"1\" class=\"dataframe\">\n",
       "  <thead>\n",
       "    <tr style=\"text-align: right;\">\n",
       "      <th></th>\n",
       "      <th>UNII</th>\n",
       "      <th>Name</th>\n",
       "    </tr>\n",
       "  </thead>\n",
       "  <tbody>\n",
       "    <tr>\n",
       "      <th>0</th>\n",
       "      <td>8NZ41MIK1O</td>\n",
       "      <td>ENOXAPARIN SODIUM</td>\n",
       "    </tr>\n",
       "    <tr>\n",
       "      <th>1</th>\n",
       "      <td>2679MF687A</td>\n",
       "      <td>NIACIN</td>\n",
       "    </tr>\n",
       "    <tr>\n",
       "      <th>2</th>\n",
       "      <td>R16CO5Y76E</td>\n",
       "      <td>ASPIRIN</td>\n",
       "    </tr>\n",
       "    <tr>\n",
       "      <th>3</th>\n",
       "      <td>0K47UL67F2</td>\n",
       "      <td>CARVEDILOL</td>\n",
       "    </tr>\n",
       "    <tr>\n",
       "      <th>4</th>\n",
       "      <td>GEB06NHM23</td>\n",
       "      <td>METOPROLOL</td>\n",
       "    </tr>\n",
       "    <tr>\n",
       "      <th>5</th>\n",
       "      <td>G59M7S0WS3</td>\n",
       "      <td>Nitroglycerin</td>\n",
       "    </tr>\n",
       "    <tr>\n",
       "      <th>6</th>\n",
       "      <td>L35JN3I7SJ</td>\n",
       "      <td>RAMIPRIL</td>\n",
       "    </tr>\n",
       "    <tr>\n",
       "      <th>7</th>\n",
       "      <td>80M03YXJ7I</td>\n",
       "      <td>VALSARTAN</td>\n",
       "    </tr>\n",
       "  </tbody>\n",
       "</table style=\"display:inline\"></td></th><th style=\"text-align:center\"><td style=\"vertical-align:top\"><h2 style=\"text-align: center;\">CAD Drugs</h2><table style=\"display:inline\" border=\"1\" class=\"dataframe\">\n",
       "  <thead>\n",
       "    <tr style=\"text-align: right;\">\n",
       "      <th></th>\n",
       "      <th>UNII</th>\n",
       "      <th>Name</th>\n",
       "    </tr>\n",
       "  </thead>\n",
       "  <tbody>\n",
       "    <tr>\n",
       "      <th>0</th>\n",
       "      <td>1J444QC288</td>\n",
       "      <td>AMLODIPINE</td>\n",
       "    </tr>\n",
       "    <tr>\n",
       "      <th>1</th>\n",
       "      <td>OM90ZUW7M1</td>\n",
       "      <td>TICLOPIDINE</td>\n",
       "    </tr>\n",
       "  </tbody>\n",
       "</table style=\"display:inline\"></td></th><th style=\"text-align:center\"><td style=\"vertical-align:top\"><h2 style=\"text-align: center;\">CHF Drugs</h2><table style=\"display:inline\" border=\"1\" class=\"dataframe\">\n",
       "  <thead>\n",
       "    <tr style=\"text-align: right;\">\n",
       "      <th></th>\n",
       "      <th>UNII</th>\n",
       "      <th>Name</th>\n",
       "    </tr>\n",
       "  </thead>\n",
       "  <tbody>\n",
       "    <tr>\n",
       "      <th>0</th>\n",
       "      <td>77W477J15H</td>\n",
       "      <td>CHLOROTHIAZIDE</td>\n",
       "    </tr>\n",
       "    <tr>\n",
       "      <th>1</th>\n",
       "      <td>M5DP350VZV</td>\n",
       "      <td>ETHACRYNIC ACID</td>\n",
       "    </tr>\n",
       "    <tr>\n",
       "      <th>2</th>\n",
       "      <td>F089I0511L</td>\n",
       "      <td>INDAPAMIDE</td>\n",
       "    </tr>\n",
       "    <tr>\n",
       "      <th>3</th>\n",
       "      <td>TZ7V40X7VX</td>\n",
       "      <td>METOLAZONE</td>\n",
       "    </tr>\n",
       "    <tr>\n",
       "      <th>4</th>\n",
       "      <td>L35JN3I7SJ</td>\n",
       "      <td>RAMIPRIL</td>\n",
       "    </tr>\n",
       "    <tr>\n",
       "      <th>5</th>\n",
       "      <td>27O7W4T232</td>\n",
       "      <td>SPIRONOLACTONE</td>\n",
       "    </tr>\n",
       "  </tbody>\n",
       "</table style=\"display:inline\"></td></th>"
      ]
     },
     "metadata": {},
     "output_type": "display_data"
    }
   ],
   "source": [
    "# display dfs \n",
    "\n",
    "display_side_by_side(mi_merged[[\"UNII\", \"Name\"]], \\\n",
    "                     cad_merged[[\"UNII\", \"Name\"]], \\\n",
    "                     chf_merged[[\"UNII\", \"Name\"]], \\\n",
    "                     titles=[\"MI Drugs\", \"CAD Drugs\", \"CHF Drugs\"])"
   ]
  },
  {
   "cell_type": "markdown",
   "id": "1f2a32b3",
   "metadata": {},
   "source": [
    "### Create CVD df"
   ]
  },
  {
   "cell_type": "code",
   "execution_count": 27,
   "id": "804913ab",
   "metadata": {},
   "outputs": [],
   "source": [
    "# total cvd drug df\n",
    "\n",
    "cvd = pd.concat([mi_df, cad_df, chf_df])\n",
    "cvd_df = pd.merge(total_merged, cvd, on = 'UNII', how='inner').drop_duplicates(\"UNII\").reset_index(drop=True)\n",
    "cvd_df.to_csv(\"../data/cvd_df.csv\")"
   ]
  }
 ],
 "metadata": {
  "kernelspec": {
   "display_name": "Python 3 (ipykernel)",
   "language": "python",
   "name": "python3"
  },
  "language_info": {
   "codemirror_mode": {
    "name": "ipython",
    "version": 3
   },
   "file_extension": ".py",
   "mimetype": "text/x-python",
   "name": "python",
   "nbconvert_exporter": "python",
   "pygments_lexer": "ipython3",
   "version": "3.11.4"
  }
 },
 "nbformat": 4,
 "nbformat_minor": 5
}
