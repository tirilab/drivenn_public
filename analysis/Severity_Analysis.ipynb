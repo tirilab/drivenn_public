{
 "cells": [
  {
   "cell_type": "code",
   "execution_count": 64,
   "id": "3971be47",
   "metadata": {},
   "outputs": [],
   "source": [
    "import pandas as pd\n",
    "import numpy as np\n",
    "import matplotlib.pyplot as plt\n",
    "\n",
    "from utility import *"
   ]
  },
  {
   "cell_type": "code",
   "execution_count": 2,
   "id": "81e293a9",
   "metadata": {},
   "outputs": [
    {
     "name": "stdout",
     "output_type": "stream",
     "text": [
      "Reading: ../data/decagon_data/bio-decagon-combo.csv\n",
      "Drug combinations: 63473 Side effects: 1317\n",
      "Drug-drug interactions: 4649441\n",
      "Reading: ../data/decagon_data/bio-decagon-ppi.csv\n",
      "Edges: 715612\n",
      "Nodes: 19081\n",
      "Reading: ../data/decagon_data/bio-decagon-mono.csv\n",
      "Reading: ../data/decagon_data/bio-decagon-targets-all.csv\n",
      "Reading: ../data/decagon_data/bio-decagon-effectcategories.csv\n"
     ]
    }
   ],
   "source": [
    "combo2stitch, combo2se, se2name = load_combo_se()\n",
    "net, node2idx = load_ppi()\n",
    "stitch2se, se2name_mono = load_mono_se()\n",
    "stitch2proteins = load_targets()\n",
    "se2class, se2name_class = load_categories()\n",
    "se2name.update(se2name_mono)\n",
    "se2name.update(se2name_class)"
   ]
  },
  {
   "cell_type": "code",
   "execution_count": 27,
   "id": "8e8aa703-a766-4778-a357-5296f3883063",
   "metadata": {},
   "outputs": [],
   "source": [
    "# read in se scores\n",
    "all_se_scores = pd.read_csv(\"../training/trained_models/model_scores/drivenn_training_all_dps.csv\")[[\"se\", \"roc\", \"aupr\"]]\n",
    "cvd_se_scores = pd.read_csv(\"../training/trained_models/model_scores/cvd_drivenn_training_cvd_dps.csv\")[[\"se\", \"roc\", \"aupr\"]]\n",
    "\n",
    "# read in severity scores\n",
    "severity_df = pd.read_csv(\"../data/ADR_severity_data/SAEDR_scores.csv\")"
   ]
  },
  {
   "cell_type": "code",
   "execution_count": 28,
   "id": "c705ddb2-cba9-4aeb-8c71-54b31994e4cb",
   "metadata": {},
   "outputs": [],
   "source": [
    "# create df of side effect names and categories\n",
    "\n",
    "se_classes = pd.DataFrame({\"se_code\": list(se2class.keys()),\n",
    "             \"se_class\": list(se2class.values())})\n",
    "\n",
    "se_names = pd.DataFrame({\"se_code\": list(se2name.keys()),\n",
    "                        \"se_name\": list(se2name.values())})\n",
    "\n",
    "se_df_all = pd.merge(se_classes, se_names, on = \"se_code\", how = \"right\")"
   ]
  },
  {
   "cell_type": "code",
   "execution_count": 43,
   "id": "dfa80655-5548-47f6-b988-2b45f825ff32",
   "metadata": {},
   "outputs": [],
   "source": [
    "# merge severity df with side effect names and roc/aupr\n",
    "\n",
    "drivenn_all = pd.merge(pd.merge(all_se_scores, se_df_all, how=\"left\", left_on=\"se\", right_on=\"se_code\"), severity_df, how=\"left\", left_on=\"se\", right_on=\"cui\")\n",
    "drivenn_cvd = pd.merge(pd.merge(cvd_se_scores, se_df_all, how=\"left\", left_on=\"se\", right_on=\"se_code\"), severity_df, how=\"left\", left_on=\"se\", right_on=\"cui\")\n",
    "\n",
    "# select side effects that have a severity score that is not null\n",
    "drivenn_all = drivenn_all[~drivenn_all['saedr_score'].isna()]\n",
    "drivenn_cvd = drivenn_cvd[~drivenn_cvd['saedr_score'].isna()]\n"
   ]
  },
  {
   "cell_type": "markdown",
   "id": "6a092267-9dd7-402d-8da6-646d25b444a7",
   "metadata": {},
   "source": [
    "# Look at Severity Bins"
   ]
  },
  {
   "cell_type": "code",
   "execution_count": 33,
   "id": "bdf7560a-9b7f-4fcc-a677-46bb51aa49be",
   "metadata": {},
   "outputs": [],
   "source": [
    "# bins for saeder scores\n",
    "\n",
    "def f(score):\n",
    "    sev_dict = {\"low\": (0,0.2), \"minor\": (0.2, 0.4), \"moderate\": (0.4, 0.6), \"major\": (0.6, 0.8), \"critical\": (0.8, 1)}\n",
    "    \n",
    "    if score < 0.2:\n",
    "        return \"low\"\n",
    "    elif score < 0.4:\n",
    "        return \"minor\"\n",
    "    elif score < 0.6:\n",
    "        return \"moderate\"\n",
    "    elif score < 0.8:\n",
    "        return \"major\"\n",
    "    else:\n",
    "        return \"critical\""
   ]
  },
  {
   "cell_type": "code",
   "execution_count": 60,
   "id": "77c7b8e0-8200-4940-ba63-ac9ba214f6f5",
   "metadata": {},
   "outputs": [],
   "source": [
    "# bins for roc/aupr scores\n",
    "\n",
    "def g(score):\n",
    "    if score > 0.95:\n",
    "        return \"> 0.95\"\n",
    "    elif score > 0.9:\n",
    "        return \"(0.9, 0.95)\"\n",
    "    elif score > 0.85:\n",
    "        return \"(0.85, 0.90)\"\n",
    "    elif score > 0.8:\n",
    "        return \"(0.8, 0.85)\"\n",
    "    else:\n",
    "        return \"(0, 0.8)\""
   ]
  },
  {
   "cell_type": "code",
   "execution_count": 61,
   "id": "2af4a00e-b6df-456e-b6a5-2016f15dd0ae",
   "metadata": {},
   "outputs": [],
   "source": [
    "# bins for easier analysis\n",
    "drivenn_all['severity_bin'] = drivenn_all.saedr_score.apply(f)\n",
    "drivenn_all['roc_bin'] = drivenn_all.roc.apply(g)\n",
    "drivenn_all['aupr_bin'] = drivenn_all.aupr.apply(g)\n",
    "\n",
    "drivenn_cvd['severity_bin'] = drivenn_cvd.saedr_score.apply(f)\n",
    "drivenn_cvd['roc_bin'] = drivenn_cvd.roc.apply(g)\n",
    "drivenn_cvd['aupr_bin'] = drivenn_cvd.aupr.apply(g)"
   ]
  },
  {
   "cell_type": "code",
   "execution_count": 62,
   "id": "d85b9c8a-3727-4efc-8035-0a70a58fe6af",
   "metadata": {},
   "outputs": [
    {
     "data": {
      "text/html": [
       "<div>\n",
       "<style scoped>\n",
       "    .dataframe tbody tr th:only-of-type {\n",
       "        vertical-align: middle;\n",
       "    }\n",
       "\n",
       "    .dataframe tbody tr th {\n",
       "        vertical-align: top;\n",
       "    }\n",
       "\n",
       "    .dataframe thead th {\n",
       "        text-align: right;\n",
       "    }\n",
       "</style>\n",
       "<table border=\"1\" class=\"dataframe\">\n",
       "  <thead>\n",
       "    <tr style=\"text-align: right;\">\n",
       "      <th></th>\n",
       "      <th>se_name</th>\n",
       "      <th>se</th>\n",
       "      <th>saedr_score</th>\n",
       "    </tr>\n",
       "    <tr>\n",
       "      <th>roc_bin</th>\n",
       "      <th></th>\n",
       "      <th></th>\n",
       "      <th></th>\n",
       "    </tr>\n",
       "  </thead>\n",
       "  <tbody>\n",
       "    <tr>\n",
       "      <th>(0, 0.8)</th>\n",
       "      <td>[nervous tension, Pain, alopecia, eruption, in...</td>\n",
       "      <td>213</td>\n",
       "      <td>0.593920</td>\n",
       "    </tr>\n",
       "    <tr>\n",
       "      <th>(0.8, 0.85)</th>\n",
       "      <td>[malnourished, azotaemia, arteriosclerotic hea...</td>\n",
       "      <td>27</td>\n",
       "      <td>0.607647</td>\n",
       "    </tr>\n",
       "    <tr>\n",
       "      <th>(0.85, 0.90)</th>\n",
       "      <td>[heart attack, blood sodium decreased, Difficu...</td>\n",
       "      <td>9</td>\n",
       "      <td>0.664826</td>\n",
       "    </tr>\n",
       "    <tr>\n",
       "      <th>(0.9, 0.95)</th>\n",
       "      <td>[cardiac enlargement, epistaxis, Hypotension O...</td>\n",
       "      <td>13</td>\n",
       "      <td>0.553373</td>\n",
       "    </tr>\n",
       "    <tr>\n",
       "      <th>&gt; 0.95</th>\n",
       "      <td>[Feeling unwell, facial flushing, dysarthria, ...</td>\n",
       "      <td>18</td>\n",
       "      <td>0.593467</td>\n",
       "    </tr>\n",
       "  </tbody>\n",
       "</table>\n",
       "</div>"
      ],
      "text/plain": [
       "                                                        se_name   se  \\\n",
       "roc_bin                                                                \n",
       "(0, 0.8)      [nervous tension, Pain, alopecia, eruption, in...  213   \n",
       "(0.8, 0.85)   [malnourished, azotaemia, arteriosclerotic hea...   27   \n",
       "(0.85, 0.90)  [heart attack, blood sodium decreased, Difficu...    9   \n",
       "(0.9, 0.95)   [cardiac enlargement, epistaxis, Hypotension O...   13   \n",
       "> 0.95        [Feeling unwell, facial flushing, dysarthria, ...   18   \n",
       "\n",
       "              saedr_score  \n",
       "roc_bin                    \n",
       "(0, 0.8)         0.593920  \n",
       "(0.8, 0.85)      0.607647  \n",
       "(0.85, 0.90)     0.664826  \n",
       "(0.9, 0.95)      0.553373  \n",
       "> 0.95           0.593467  "
      ]
     },
     "execution_count": 62,
     "metadata": {},
     "output_type": "execute_result"
    }
   ],
   "source": [
    "drivenn_cvd.groupby([\"roc_bin\"]).agg({\"se_name\": list, \"se\": len,  \"saedr_score\": 'median'})"
   ]
  },
  {
   "cell_type": "code",
   "execution_count": 63,
   "id": "c92a1f17-637b-4eec-bc7e-50b31add76ee",
   "metadata": {},
   "outputs": [
    {
     "data": {
      "text/html": [
       "<div>\n",
       "<style scoped>\n",
       "    .dataframe tbody tr th:only-of-type {\n",
       "        vertical-align: middle;\n",
       "    }\n",
       "\n",
       "    .dataframe tbody tr th {\n",
       "        vertical-align: top;\n",
       "    }\n",
       "\n",
       "    .dataframe thead th {\n",
       "        text-align: right;\n",
       "    }\n",
       "</style>\n",
       "<table border=\"1\" class=\"dataframe\">\n",
       "  <thead>\n",
       "    <tr style=\"text-align: right;\">\n",
       "      <th></th>\n",
       "      <th>se_name</th>\n",
       "      <th>se</th>\n",
       "      <th>saedr_score</th>\n",
       "    </tr>\n",
       "    <tr>\n",
       "      <th>aupr_bin</th>\n",
       "      <th></th>\n",
       "      <th></th>\n",
       "      <th></th>\n",
       "    </tr>\n",
       "  </thead>\n",
       "  <tbody>\n",
       "    <tr>\n",
       "      <th>(0, 0.8)</th>\n",
       "      <td>[nervous tension, Pain, alopecia, eruption, in...</td>\n",
       "      <td>245</td>\n",
       "      <td>0.604713</td>\n",
       "    </tr>\n",
       "    <tr>\n",
       "      <th>(0.8, 0.85)</th>\n",
       "      <td>[adenocarcinoma]</td>\n",
       "      <td>1</td>\n",
       "      <td>0.806116</td>\n",
       "    </tr>\n",
       "    <tr>\n",
       "      <th>(0.85, 0.90)</th>\n",
       "      <td>[epistaxis, joint swelling, fungal disease, ca...</td>\n",
       "      <td>4</td>\n",
       "      <td>0.534778</td>\n",
       "    </tr>\n",
       "    <tr>\n",
       "      <th>(0.9, 0.95)</th>\n",
       "      <td>[cardiac enlargement, disorder Renal, bone mar...</td>\n",
       "      <td>10</td>\n",
       "      <td>0.596760</td>\n",
       "    </tr>\n",
       "    <tr>\n",
       "      <th>&gt; 0.95</th>\n",
       "      <td>[Feeling unwell, facial flushing, dysarthria, ...</td>\n",
       "      <td>20</td>\n",
       "      <td>0.593467</td>\n",
       "    </tr>\n",
       "  </tbody>\n",
       "</table>\n",
       "</div>"
      ],
      "text/plain": [
       "                                                        se_name   se  \\\n",
       "aupr_bin                                                               \n",
       "(0, 0.8)      [nervous tension, Pain, alopecia, eruption, in...  245   \n",
       "(0.8, 0.85)                                    [adenocarcinoma]    1   \n",
       "(0.85, 0.90)  [epistaxis, joint swelling, fungal disease, ca...    4   \n",
       "(0.9, 0.95)   [cardiac enlargement, disorder Renal, bone mar...   10   \n",
       "> 0.95        [Feeling unwell, facial flushing, dysarthria, ...   20   \n",
       "\n",
       "              saedr_score  \n",
       "aupr_bin                   \n",
       "(0, 0.8)         0.604713  \n",
       "(0.8, 0.85)      0.806116  \n",
       "(0.85, 0.90)     0.534778  \n",
       "(0.9, 0.95)      0.596760  \n",
       "> 0.95           0.593467  "
      ]
     },
     "execution_count": 63,
     "metadata": {},
     "output_type": "execute_result"
    }
   ],
   "source": [
    "drivenn_cvd.groupby([\"aupr_bin\"]).agg({\"se_name\": list, \"se\": len,  \"saedr_score\": 'median'})"
   ]
  },
  {
   "cell_type": "code",
   "execution_count": 65,
   "id": "63835e72",
   "metadata": {},
   "outputs": [
    {
     "data": {
      "image/png": "[encoded data removed]",
      "text/plain": [
       "<Figure size 640x480 with 1 Axes>"
      ]
     },
     "metadata": {},
     "output_type": "display_data"
    }
   ],
   "source": [
    "\n",
    "drivenn_cvd.saedr_score.hist(color='c', edgecolor='k')\n",
    "\n",
    "# add median line\n",
    "median = drivenn_cvd.saedr_score.median()\n",
    "plt.axvline(median, color='k', linestyle='dashed', linewidth=1)\n",
    "\n",
    "# add graph labels\n",
    "plt.xlabel('SAEDR Score')\n",
    "plt.ylabel('Frequency (Num SEs)')\n",
    "min_ylim, max_ylim = plt.ylim()\n",
    "plt.text(median*1.1, max_ylim*0.9, 'Median: {:.2f}'.format(median))\n",
    "plt.title(\"SAEDR Score Histogram for SEs with Category\");"
   ]
  }
 ],
 "metadata": {
  "kernelspec": {
   "display_name": "Python 3 (ipykernel)",
   "language": "python",
   "name": "python3"
  },
  "language_info": {
   "codemirror_mode": {
    "name": "ipython",
    "version": 3
   },
   "file_extension": ".py",
   "mimetype": "text/x-python",
   "name": "python",
   "nbconvert_exporter": "python",
   "pygments_lexer": "ipython3",
   "version": "3.10.14"
  }
 },
 "nbformat": 4,
 "nbformat_minor": 5
}
